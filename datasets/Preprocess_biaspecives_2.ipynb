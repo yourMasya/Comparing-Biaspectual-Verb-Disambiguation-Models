{
  "nbformat": 4,
  "nbformat_minor": 0,
  "metadata": {
    "colab": {
      "provenance": []
    },
    "kernelspec": {
      "name": "python3",
      "display_name": "Python 3"
    },
    "language_info": {
      "name": "python"
    }
  },
  "cells": [
    {
      "cell_type": "markdown",
      "source": [
        "\n",
        "\n",
        "1.   ~~Распаковать архив~~\n",
        "2.   ~~Отобрать по-леммно с перф и импф глаголами~~, только если и перф и импф кол-во больше 5. Заполнить леммы в соответствующий столбец, если нет. `Continue`, если нет контекста или словоформы.\n",
        "3.   ~Выкинуть семпл, если словоформы нет в контексте~\n",
        "4.   Собрать все контексты в единый словарь типа `IMPF: [...], PERF: [...]`\n",
        "5.   Разметить тексты с пайморфи в словарях.\n",
        "6.   Создать словарь соответствий разметки `pymorphy3` и НКРЯ\n",
        "7.   Повторно пройтись по ДВГ-словоформам из столбца и заполнить грамматику, если нет, используя словарь.\n",
        "8.   Сохранить заново в одноимённый `.json` в файле в папке `biaspectual_verbs_diploma`.\n",
        "------------------\n",
        "9.   Открыть все глаголы, бахнуть их в один датасет `pandas`\n",
        "10.  Разметить тексты целиком, кроме ДВГ\n",
        "11.  Преобразовать столбец с грамматикой в отдельные столбцы в соответствии с грамматическими катгориям. Чек прошлогодний ноутбук\n",
        "\n"
      ],
      "metadata": {
        "id": "pqakl07-NtK_"
      }
    },
    {
      "cell_type": "code",
      "source": [
        "!pip install numpy==2.0.2 -q\n",
        "!pip install pandas==2.2.2 -q\n",
        "!pip install pymorphy3==2.0.3 -q\n",
        "!pip install scikit-learn==1.6.1 -q"
      ],
      "metadata": {
        "id": "c4oofxPjdiHP",
        "colab": {
          "base_uri": "https://localhost:8080/"
        },
        "outputId": "9b37b051-c597-4be7-86b1-55d2f5327a91"
      },
      "execution_count": null,
      "outputs": [
        {
          "output_type": "stream",
          "name": "stdout",
          "text": [
            "\u001b[2K   \u001b[90m━━━━━━━━━━━━━━━━━━━━━━━━━━━━━━━━━━━━━━━━\u001b[0m \u001b[32m53.8/53.8 kB\u001b[0m \u001b[31m2.5 MB/s\u001b[0m eta \u001b[36m0:00:00\u001b[0m\n",
            "\u001b[2K   \u001b[90m━━━━━━━━━━━━━━━━━━━━━━━━━━━━━━━━━━━━━━━━\u001b[0m \u001b[32m8.4/8.4 MB\u001b[0m \u001b[31m27.4 MB/s\u001b[0m eta \u001b[36m0:00:00\u001b[0m\n",
            "\u001b[?25h"
          ]
        }
      ]
    },
    {
      "cell_type": "code",
      "source": [
        "import json\n",
        "from pathlib import Path\n",
        "\n",
        "import numpy as np\n",
        "import pandas as pd\n",
        "import pymorphy3\n",
        "import sklearn\n",
        "\n",
        "from sklearn.model_selection import train_test_split"
      ],
      "metadata": {
        "id": "tgopTwXEdTgu"
      },
      "execution_count": null,
      "outputs": []
    },
    {
      "cell_type": "code",
      "source": [
        "!pip freeze"
      ],
      "metadata": {
        "id": "OfJteM6XgVXY"
      },
      "execution_count": null,
      "outputs": []
    },
    {
      "cell_type": "code",
      "source": [
        "from google.colab import drive\n",
        "drive.mount('/content/drive')"
      ],
      "metadata": {
        "colab": {
          "base_uri": "https://localhost:8080/"
        },
        "id": "ceXi-9J0YZ9I",
        "outputId": "9f35a223-28e6-4977-f946-04566f290b6f"
      },
      "execution_count": null,
      "outputs": [
        {
          "output_type": "stream",
          "name": "stdout",
          "text": [
            "Mounted at /content/drive\n"
          ]
        }
      ]
    },
    {
      "cell_type": "code",
      "execution_count": null,
      "metadata": {
        "id": "UO4eS9a8NJ7K",
        "collapsed": true
      },
      "outputs": [],
      "source": [
        "!unrar x -Y \"/content/drive/MyDrive/biaspectual_verbs.rar\" \"/content/drive/MyDrive/Biaspectual_Verbs_Diploma/\""
      ]
    },
    {
      "cell_type": "code",
      "source": [
        "dir = '/content/drive/MyDrive/Biaspectual_Verbs_Diploma/biaspectual_verbs'\n",
        "\n",
        "def extract_true_bi_verbs(directory=dir):\n",
        "  true_biaspectives = []\n",
        "  dir_iterator = list(Path(directory).iterdir())\n",
        "  labels = {'perf', 'impf'}\n",
        "  for path in dir_iterator:\n",
        "      if path.is_file() and path.suffix == '.json':\n",
        "        lemma, label = path.name[:path.name.index('.json')].split('_')\n",
        "        label = {label}\n",
        "        f = lemma + '_' + next(iter(labels - label)) + '.json'\n",
        "        nec_path = path.parent / f\n",
        "        if not nec_path.exists():\n",
        "          continue\n",
        "        true_biaspectives.append(f)\n",
        "  true_biaspectives.sort()\n",
        "  return true_biaspectives\n",
        "\n",
        "bi_verbs = extract_true_bi_verbs()\n",
        "print(len(bi_verbs))"
      ],
      "metadata": {
        "id": "Gi3x4Lw3b2AZ",
        "colab": {
          "base_uri": "https://localhost:8080/"
        },
        "outputId": "4bf8aea8-b366-4cef-9416-57dd87983ddb"
      },
      "execution_count": null,
      "outputs": [
        {
          "output_type": "stream",
          "name": "stdout",
          "text": [
            "580\n"
          ]
        }
      ]
    },
    {
      "cell_type": "markdown",
      "source": [
        "\n",
        "\n",
        "1.   Я прохожусь по множествам из словоформ. Возвращаю словарь **словоформа: разметка `pymorphy`**. НКРЯ-ую оставлять не надо - сложнее будет сравнивать на этапе rule-based модели\n",
        "2.   Вид и время переписываются в соответствии с именем в `.json` файле. `if impf - pres, if perf - futr`. В остальных случаях вид расставляется в соответствии лишь с именем файла.\n",
        "3.   Далее проход по всем словоформам в файле с разметкой. Доступ в словарь по `словоформе.lower()` и заполнение столбца `\"грамматика\"` через запятую с пробелом. Сортировка не нужна.\n",
        "\n"
      ],
      "metadata": {
        "id": "NYasmPVix7_w"
      }
    },
    {
      "cell_type": "code",
      "source": [
        "m = pymorphy3.MorphAnalyzer()\n",
        "m.parse('делает')[0].tag.aspect"
      ],
      "metadata": {
        "colab": {
          "base_uri": "https://localhost:8080/",
          "height": 36
        },
        "id": "oEagCG2y4n50",
        "outputId": "5184c5bf-a953-4d3e-e4e9-61837430a128"
      },
      "execution_count": null,
      "outputs": [
        {
          "output_type": "execute_result",
          "data": {
            "text/plain": [
              "'impf'"
            ],
            "application/vnd.google.colaboratory.intrinsic+json": {
              "type": "string"
            }
          },
          "metadata": {},
          "execution_count": 7
        }
      ]
    },
    {
      "cell_type": "code",
      "source": [
        "# Available attributes are:\n",
        "# POS, animacy, aspect, case, gender, involvement, mood, number, person, tense, transitivity and voice.\n",
        "\n",
        "def mark_wordforms(wordforms, aspect, pymorph=m):\n",
        "  tense_mapping = {'impf': 'pres', 'perf': 'futr'}\n",
        "  wf_markup = {}\n",
        "  for t in wordforms:\n",
        "      if t:\n",
        "          tp = pymorph.parse(t)[0]\n",
        "          wf_markup[t] = {\n",
        "              'POS': tp.tag.POS,\n",
        "              '': '',\n",
        "              'aspect': aspect,\n",
        "              'tense': str(tense) if str(tense := tp.tag.tense) == 'past'\n",
        "              else tense_mapping.get(aspect if tense else '', ''),\n",
        "              'gender': str(tp.tag.gender) if tp.tag.gender else '',\n",
        "              'mood': list(filter(bool,\n",
        "                  (\n",
        "                    str(mood) if (mood := tp.tag.mood) else '',\n",
        "                    str(inv) if (inv := tp.tag.involvement) else ''\n",
        "                  )\n",
        "                )),\n",
        "              'number': str(tp.tag.number) if tp.tag.number else '',\n",
        "              'person': str(tp.tag.person) if tp.tag.person else '',\n",
        "              'transitivity': str(tp.tag.transitivity) if tp.tag.transitivity else '',\n",
        "              'voice': str(tp.tag.voice) if tp.tag.voice else ''\n",
        "          }\n",
        "  return wf_markup"
      ],
      "metadata": {
        "id": "3_wPw8dwwVHB"
      },
      "execution_count": null,
      "outputs": []
    },
    {
      "cell_type": "code",
      "source": [
        "# создадим словарь соответствий между разметкой pymorphy и НКРЯ\n",
        "grammar_cats = {\n",
        "    'лицо': {'1per', '2per', '3per'},\n",
        "    'число': {'sing', 'plur'},\n",
        "    'вид': {'perf', 'impf'},\n",
        "    'наклонение / форма': {'indc', 'impr,excl', 'impr,incl', 'INFN', 'GRND', 'PRTF'},\n",
        "    'залог': {'actv', 'pssv'},\n",
        "    'время': {'pres', 'futr', 'past'},\n",
        "    'род': {'masc', 'femn', 'neut', 'ms-f'},\n",
        "    'переходность': {'tran', 'intr'}\n",
        "}\n",
        "\n",
        "# не понадобился\n",
        "rnc2pym = {\n",
        "    '1-е лицо': '1per', '2-е лицо': '2per', '3-е лицо': '3per',\n",
        "    'единственное': 'sing', 'множественное': 'plur',\n",
        "    'совершенный': 'perf', 'несовершенный': 'impf',\n",
        "    'изъявительное': 'indc', 'повелительное': 'impr,excl', 'повелительное 2': 'impr,incl', 'инфинитив': 'INFN', 'деепричастие': 'GRND', 'причастие': 'PRTF',\n",
        "    'действительный': 'actv', 'страдательный': 'pssv', 'медиальный': '',\n",
        "    'настоящее': 'pres', 'будущее': 'futr', 'прошедшее': 'past',\n",
        "    'переходный': 'tran', 'непереходный': 'intr',\n",
        "    'мужской': 'masc', 'женский': 'femn', 'средний': 'neut', 'общий': 'ms-f'\n",
        "}"
      ],
      "metadata": {
        "id": "kwHpqvy4tNYn"
      },
      "execution_count": null,
      "outputs": []
    },
    {
      "cell_type": "code",
      "source": [
        "def flatten(lst):\n",
        "  return [i if isinstance(i, str) else \",\".join(i) for i in lst]"
      ],
      "metadata": {
        "id": "V599fB0IdsN6"
      },
      "execution_count": null,
      "outputs": []
    },
    {
      "cell_type": "code",
      "source": [
        "def preprocess_json(path):\n",
        "  with open(path, 'r', encoding='utf-8') as f:\n",
        "    data_unfiltered = json.load(f)\n",
        "    data = list(filter(bool, data_unfiltered))\n",
        "    f = pd.DataFrame(data)\n",
        "\n",
        "  cols = list(f.columns) + [\"грамматика_pm\"]\n",
        "  if not f.empty:\n",
        "    if 'основной анализ' in f.columns:\n",
        "      f = f.drop(columns=['основной анализ'])\n",
        "    f = f.replace('', np.nan)\n",
        "    f = f.dropna(subset=[\"словоформа\", \"контекст\"])\n",
        "\n",
        "    f = f[f.apply(lambda row: row[\"словоформа\"] in row['контекст'], axis=1)]\n",
        "    f[\"контекст\"] = f[\"контекст\"].str.replace(\"\\n+\", \" \", regex=True)\n",
        "    f = f[f.apply(lambda row: \" \" in row[\"контекст\"], axis=1)]\n",
        "    f = f.drop_duplicates(keep=False, subset=\"контекст\")\n",
        "\n",
        "    if not f.empty:\n",
        "      lemma, aspect = path.name.split('/')[-1].split('_')\n",
        "      aspect = aspect[:-5]\n",
        "      f[\"лемма\"] = f[\"лемма\"].fillna(lemma)\n",
        "\n",
        "      wf_marked_up = mark_wordforms(set(f['словоформа'].str.lower()), aspect, m)\n",
        "      # по словоформе достанем словарь с разметкой\n",
        "      f[\"грамматика_pm\"] = f['словоформа'].apply(lambda row: list(filter(bool, mark.values() if isinstance((mark := wf_marked_up.get(row.lower(), '')), dict) and mark else [])))\n",
        "      f[\"грамматика_pm\"] = f[\"грамматика_pm\"].apply(lambda row: flatten(row) if isinstance(row, list) else row)\n",
        "      f[\"грамматика_pm\"] = f[\"грамматика_pm\"].apply(lambda row: ','.join([grammeme for grammeme in row if grammeme]))\n",
        "      f[\"грамматика_pm\"] = f[\"грамматика_pm\"].str.replace(r',+', ',', regex=True)\n",
        "      f.reset_index(drop=True)\n",
        "      if not f.empty:\n",
        "        f.to_json(path.parent.parent / 'biaspectual_verbs_preprocessed' / path.name, orient='records', force_ascii=False)\n",
        "        return f\n",
        "      else:\n",
        "        return pd.DataFrame(columns=cols)\n",
        "    else:\n",
        "        return pd.DataFrame(columns=cols)\n",
        "  else:\n",
        "    del f\n",
        "    return pd.DataFrame(columns=cols)"
      ],
      "metadata": {
        "id": "25uyCH3Ei6X3"
      },
      "execution_count": null,
      "outputs": []
    },
    {
      "cell_type": "code",
      "source": [
        "def filter_verbs(directory=dir,\n",
        "                 true_biaspectives=bi_verbs):\n",
        "  verb_occs = pd.DataFrame()\n",
        "  dir = Path(directory)\n",
        "  for inx, f in enumerate(true_biaspectives, start=1):\n",
        "    path = dir / f\n",
        "    lemma_asp = f[:-5]\n",
        "    try:\n",
        "      if path.is_file() and path.suffix == '.json':\n",
        "        if inx % 2:\n",
        "          perf_preprocessed = preprocess_json(path)\n",
        "        elif not inx % 2:\n",
        "          impf_preprocessed = preprocess_json(path)\n",
        "    except (AttributeError, TypeError) as e:\n",
        "      print(e, lemma_asp)\n",
        "  return\n",
        "\n",
        "verbs_filtered = filter_verbs()"
      ],
      "metadata": {
        "id": "0urVJ9sIskkN"
      },
      "execution_count": null,
      "outputs": []
    },
    {
      "cell_type": "code",
      "source": [
        "directory = Path('/content/drive/MyDrive/Biaspectual_Verbs_Diploma/biaspectual_verbs_preprocessed')\n",
        "bi_verbs_preprocessed = extract_true_bi_verbs(directory)\n",
        "print(len(bi_verbs_preprocessed) // 2)"
      ],
      "metadata": {
        "colab": {
          "base_uri": "https://localhost:8080/"
        },
        "id": "tCaa5sSNVidm",
        "outputId": "79c06d2e-7e13-4538-aa9d-35d8688c96ca"
      },
      "execution_count": null,
      "outputs": [
        {
          "output_type": "stream",
          "name": "stdout",
          "text": [
            "289\n"
          ]
        }
      ]
    },
    {
      "cell_type": "code",
      "source": [
        "def form_dataset(true_biaspectives=bi_verbs_preprocessed,\n",
        "                 dir=directory,\n",
        "                 balanced=True):\n",
        "  data_formed = pd.DataFrame(columns=['основной анализ', 'лемма', 'словоформа',\n",
        "                                      'контекст', 'грамматика_pm',\n",
        "                                      'грамматика'])\n",
        "  for inx in range(0, len(true_biaspectives), 2):\n",
        "    path_impf = dir / true_biaspectives[inx]\n",
        "    path_perf = dir / true_biaspectives[inx + 1]\n",
        "\n",
        "    impf = pd.read_json(path_impf, orient='records')\n",
        "    perf = pd.read_json(path_perf, orient='records')\n",
        "\n",
        "    min_len = min((impf.shape[0], perf.shape[0],))\n",
        "    impf = impf[:min_len] if balanced else impf\n",
        "    perf = perf[:min_len] if balanced else perf\n",
        "    data_formed = pd.concat([data_formed, impf, perf])\n",
        "\n",
        "  data_formed = data_formed.drop_duplicates(keep=False, subset=\"контекст\")\n",
        "  data_formed = data_formed.reset_index(drop=True)\n",
        "  data_formed['вид_совершенный'] = data_formed['грамматика_pm'].apply(lambda row: 'perf' in row)\n",
        "  y = data_formed['вид_совершенный']\n",
        "  data_formed = data_formed.drop(columns=['основной анализ', 'грамматика',\n",
        "                                          'вид_совершенный'])\n",
        "  stratify = None if balanced else y\n",
        "  X_train, X_test, y_train, y_test = train_test_split(data_formed, y,\n",
        "                                                      test_size=0.3,\n",
        "                                                      random_state=666,\n",
        "                                                      stratify=stratify\n",
        "  )\n",
        "  train = pd.merge(X_train, y_train, left_index=True, right_index=True).reset_index(drop=True)\n",
        "  test = pd.merge(X_test, y_test, left_index=True, right_index=True).reset_index(drop=True)\n",
        "  return train, test"
      ],
      "metadata": {
        "id": "o9Y3m7FMV23T"
      },
      "execution_count": null,
      "outputs": []
    },
    {
      "cell_type": "code",
      "source": [
        "train_bal, test_bal = form_dataset(balanced=False)\n",
        "train_unbal, test_unbal = form_dataset(balanced=True)\n",
        "\n",
        "train_bal.to_json(directory.parent / 'balanced_2verbs_dataset' / 'train.json.zip', orient='records', force_ascii=False, compression='zip')\n",
        "test_bal.to_json(directory.parent / 'balanced_2verbs_dataset' / 'test.json.zip', orient='records', force_ascii=False, compression='zip')\n",
        "\n",
        "train_unbal.to_json(directory.parent / 'unbalanced_2verbs_dataset' / 'train.json.zip', orient='records', force_ascii=False, compression='zip')\n",
        "test_unbal.to_json(directory.parent / 'unbalanced_2verbs_dataset' / 'test.json.zip', orient='records', force_ascii=False, compression='zip')"
      ],
      "metadata": {
        "id": "yn9yUuO7mpMF"
      },
      "execution_count": null,
      "outputs": []
    },
    {
      "cell_type": "code",
      "source": [
        "train_bal.shape, test_bal.shape"
      ],
      "metadata": {
        "colab": {
          "base_uri": "https://localhost:8080/"
        },
        "id": "g69ni9ruHU6m",
        "outputId": "08d4337d-5dea-43b0-b245-067199f5c4eb"
      },
      "execution_count": null,
      "outputs": [
        {
          "output_type": "execute_result",
          "data": {
            "text/plain": [
              "((11886, 5), (5095, 5))"
            ]
          },
          "metadata": {},
          "execution_count": 18
        }
      ]
    },
    {
      "cell_type": "code",
      "source": [
        "train_bal['вид_совершенный'].value_counts()"
      ],
      "metadata": {
        "colab": {
          "base_uri": "https://localhost:8080/",
          "height": 178
        },
        "id": "H8pltOyQrjj8",
        "outputId": "ba98feb8-65ef-4d91-fcdb-76ac6f2169e8"
      },
      "execution_count": null,
      "outputs": [
        {
          "output_type": "execute_result",
          "data": {
            "text/plain": [
              "вид_совершенный\n",
              "True     5952\n",
              "False    5934\n",
              "Name: count, dtype: int64"
            ],
            "text/html": [
              "<div>\n",
              "<style scoped>\n",
              "    .dataframe tbody tr th:only-of-type {\n",
              "        vertical-align: middle;\n",
              "    }\n",
              "\n",
              "    .dataframe tbody tr th {\n",
              "        vertical-align: top;\n",
              "    }\n",
              "\n",
              "    .dataframe thead th {\n",
              "        text-align: right;\n",
              "    }\n",
              "</style>\n",
              "<table border=\"1\" class=\"dataframe\">\n",
              "  <thead>\n",
              "    <tr style=\"text-align: right;\">\n",
              "      <th></th>\n",
              "      <th>count</th>\n",
              "    </tr>\n",
              "    <tr>\n",
              "      <th>вид_совершенный</th>\n",
              "      <th></th>\n",
              "    </tr>\n",
              "  </thead>\n",
              "  <tbody>\n",
              "    <tr>\n",
              "      <th>True</th>\n",
              "      <td>5952</td>\n",
              "    </tr>\n",
              "    <tr>\n",
              "      <th>False</th>\n",
              "      <td>5934</td>\n",
              "    </tr>\n",
              "  </tbody>\n",
              "</table>\n",
              "</div><br><label><b>dtype:</b> int64</label>"
            ]
          },
          "metadata": {},
          "execution_count": 19
        }
      ]
    },
    {
      "cell_type": "code",
      "source": [
        "test_bal['вид_совершенный'].value_counts()"
      ],
      "metadata": {
        "colab": {
          "base_uri": "https://localhost:8080/",
          "height": 178
        },
        "id": "7fL_nX47rlc7",
        "outputId": "5fa34476-c618-49be-b4a6-c77ecfe2c0e2"
      },
      "execution_count": null,
      "outputs": [
        {
          "output_type": "execute_result",
          "data": {
            "text/plain": [
              "вид_совершенный\n",
              "False    2554\n",
              "True     2541\n",
              "Name: count, dtype: int64"
            ],
            "text/html": [
              "<div>\n",
              "<style scoped>\n",
              "    .dataframe tbody tr th:only-of-type {\n",
              "        vertical-align: middle;\n",
              "    }\n",
              "\n",
              "    .dataframe tbody tr th {\n",
              "        vertical-align: top;\n",
              "    }\n",
              "\n",
              "    .dataframe thead th {\n",
              "        text-align: right;\n",
              "    }\n",
              "</style>\n",
              "<table border=\"1\" class=\"dataframe\">\n",
              "  <thead>\n",
              "    <tr style=\"text-align: right;\">\n",
              "      <th></th>\n",
              "      <th>count</th>\n",
              "    </tr>\n",
              "    <tr>\n",
              "      <th>вид_совершенный</th>\n",
              "      <th></th>\n",
              "    </tr>\n",
              "  </thead>\n",
              "  <tbody>\n",
              "    <tr>\n",
              "      <th>False</th>\n",
              "      <td>2554</td>\n",
              "    </tr>\n",
              "    <tr>\n",
              "      <th>True</th>\n",
              "      <td>2541</td>\n",
              "    </tr>\n",
              "  </tbody>\n",
              "</table>\n",
              "</div><br><label><b>dtype:</b> int64</label>"
            ]
          },
          "metadata": {},
          "execution_count": 21
        }
      ]
    },
    {
      "cell_type": "code",
      "source": [
        "train_unbal.shape, test_unbal.shape"
      ],
      "metadata": {
        "colab": {
          "base_uri": "https://localhost:8080/"
        },
        "id": "Qk5b4YrwHpj8",
        "outputId": "e6a783fd-489f-4474-e517-9be7a82fc1a8"
      },
      "execution_count": null,
      "outputs": [
        {
          "output_type": "execute_result",
          "data": {
            "text/plain": [
              "((31745, 5), (13605, 5))"
            ]
          },
          "metadata": {},
          "execution_count": 20
        }
      ]
    },
    {
      "cell_type": "code",
      "source": [
        "train_unbal['вид_совершенный'].value_counts()"
      ],
      "metadata": {
        "colab": {
          "base_uri": "https://localhost:8080/",
          "height": 178
        },
        "id": "H2pDHLKjrrXX",
        "outputId": "87d07f7c-df4c-4916-a8ac-c7fc40d56403"
      },
      "execution_count": null,
      "outputs": [
        {
          "output_type": "execute_result",
          "data": {
            "text/plain": [
              "вид_совершенный\n",
              "False    22807\n",
              "True      8938\n",
              "Name: count, dtype: int64"
            ],
            "text/html": [
              "<div>\n",
              "<style scoped>\n",
              "    .dataframe tbody tr th:only-of-type {\n",
              "        vertical-align: middle;\n",
              "    }\n",
              "\n",
              "    .dataframe tbody tr th {\n",
              "        vertical-align: top;\n",
              "    }\n",
              "\n",
              "    .dataframe thead th {\n",
              "        text-align: right;\n",
              "    }\n",
              "</style>\n",
              "<table border=\"1\" class=\"dataframe\">\n",
              "  <thead>\n",
              "    <tr style=\"text-align: right;\">\n",
              "      <th></th>\n",
              "      <th>count</th>\n",
              "    </tr>\n",
              "    <tr>\n",
              "      <th>вид_совершенный</th>\n",
              "      <th></th>\n",
              "    </tr>\n",
              "  </thead>\n",
              "  <tbody>\n",
              "    <tr>\n",
              "      <th>False</th>\n",
              "      <td>22807</td>\n",
              "    </tr>\n",
              "    <tr>\n",
              "      <th>True</th>\n",
              "      <td>8938</td>\n",
              "    </tr>\n",
              "  </tbody>\n",
              "</table>\n",
              "</div><br><label><b>dtype:</b> int64</label>"
            ]
          },
          "metadata": {},
          "execution_count": 22
        }
      ]
    },
    {
      "cell_type": "code",
      "source": [
        "test_unbal['вид_совершенный'].value_counts()"
      ],
      "metadata": {
        "colab": {
          "base_uri": "https://localhost:8080/",
          "height": 178
        },
        "id": "gWSAAzBGrsPc",
        "outputId": "b5de491e-2783-4458-9b8d-c0c9a0d7cb92"
      },
      "execution_count": null,
      "outputs": [
        {
          "output_type": "execute_result",
          "data": {
            "text/plain": [
              "вид_совершенный\n",
              "False    9864\n",
              "True     3741\n",
              "Name: count, dtype: int64"
            ],
            "text/html": [
              "<div>\n",
              "<style scoped>\n",
              "    .dataframe tbody tr th:only-of-type {\n",
              "        vertical-align: middle;\n",
              "    }\n",
              "\n",
              "    .dataframe tbody tr th {\n",
              "        vertical-align: top;\n",
              "    }\n",
              "\n",
              "    .dataframe thead th {\n",
              "        text-align: right;\n",
              "    }\n",
              "</style>\n",
              "<table border=\"1\" class=\"dataframe\">\n",
              "  <thead>\n",
              "    <tr style=\"text-align: right;\">\n",
              "      <th></th>\n",
              "      <th>count</th>\n",
              "    </tr>\n",
              "    <tr>\n",
              "      <th>вид_совершенный</th>\n",
              "      <th></th>\n",
              "    </tr>\n",
              "  </thead>\n",
              "  <tbody>\n",
              "    <tr>\n",
              "      <th>False</th>\n",
              "      <td>9864</td>\n",
              "    </tr>\n",
              "    <tr>\n",
              "      <th>True</th>\n",
              "      <td>3741</td>\n",
              "    </tr>\n",
              "  </tbody>\n",
              "</table>\n",
              "</div><br><label><b>dtype:</b> int64</label>"
            ]
          },
          "metadata": {},
          "execution_count": 23
        }
      ]
    },
    {
      "cell_type": "code",
      "source": [
        "!unzip \"/content/drive/MyDrive/Biaspectual_Verbs_Diploma/balanced_2verbs_dataset/test.json.zip\""
      ],
      "metadata": {
        "colab": {
          "base_uri": "https://localhost:8080/"
        },
        "id": "3pBrZdiINAFQ",
        "outputId": "0cfaea8f-047e-4ee2-bf21-f78fd14cee7b"
      },
      "execution_count": null,
      "outputs": [
        {
          "output_type": "stream",
          "name": "stdout",
          "text": [
            "unzip:  cannot find or open /content/drive/MyDrive/Biaspectual_Verbs_Diploma/balanced_2verbs_dataset/test.zip, /content/drive/MyDrive/Biaspectual_Verbs_Diploma/balanced_2verbs_dataset/test.zip.zip or /content/drive/MyDrive/Biaspectual_Verbs_Diploma/balanced_2verbs_dataset/test.zip.ZIP.\n"
          ]
        }
      ]
    },
    {
      "cell_type": "code",
      "source": [
        "df = pd.read_json(\"/content/test\", orient='records')\n",
        "df"
      ],
      "metadata": {
        "colab": {
          "base_uri": "https://localhost:8080/",
          "height": 339
        },
        "id": "rif_5eItNWUe",
        "outputId": "2a1dd8b2-0ca6-40b6-8268-a8c36a39cc4c"
      },
      "execution_count": null,
      "outputs": [
        {
          "output_type": "stream",
          "name": "stderr",
          "text": [
            "<ipython-input-25-c4981a61993e>:1: FutureWarning: Passing literal json to 'read_json' is deprecated and will be removed in a future version. To read from a literal string, wrap it in a 'StringIO' object.\n",
            "  df = pd.read_json(\"/content/test\", orient='records')\n"
          ]
        },
        {
          "output_type": "error",
          "ename": "ValueError",
          "evalue": "Expected object or value",
          "traceback": [
            "\u001b[0;31m---------------------------------------------------------------------------\u001b[0m",
            "\u001b[0;31mValueError\u001b[0m                                Traceback (most recent call last)",
            "\u001b[0;32m<ipython-input-25-c4981a61993e>\u001b[0m in \u001b[0;36m<cell line: 0>\u001b[0;34m()\u001b[0m\n\u001b[0;32m----> 1\u001b[0;31m \u001b[0mdf\u001b[0m \u001b[0;34m=\u001b[0m \u001b[0mpd\u001b[0m\u001b[0;34m.\u001b[0m\u001b[0mread_json\u001b[0m\u001b[0;34m(\u001b[0m\u001b[0;34m\"/content/test\"\u001b[0m\u001b[0;34m,\u001b[0m \u001b[0morient\u001b[0m\u001b[0;34m=\u001b[0m\u001b[0;34m'records'\u001b[0m\u001b[0;34m)\u001b[0m\u001b[0;34m\u001b[0m\u001b[0;34m\u001b[0m\u001b[0m\n\u001b[0m\u001b[1;32m      2\u001b[0m \u001b[0mdf\u001b[0m\u001b[0;34m\u001b[0m\u001b[0;34m\u001b[0m\u001b[0m\n",
            "\u001b[0;32m/usr/local/lib/python3.11/dist-packages/pandas/io/json/_json.py\u001b[0m in \u001b[0;36mread_json\u001b[0;34m(path_or_buf, orient, typ, dtype, convert_axes, convert_dates, keep_default_dates, precise_float, date_unit, encoding, encoding_errors, lines, chunksize, compression, nrows, storage_options, dtype_backend, engine)\u001b[0m\n\u001b[1;32m    813\u001b[0m         \u001b[0;32mreturn\u001b[0m \u001b[0mjson_reader\u001b[0m\u001b[0;34m\u001b[0m\u001b[0;34m\u001b[0m\u001b[0m\n\u001b[1;32m    814\u001b[0m     \u001b[0;32melse\u001b[0m\u001b[0;34m:\u001b[0m\u001b[0;34m\u001b[0m\u001b[0;34m\u001b[0m\u001b[0m\n\u001b[0;32m--> 815\u001b[0;31m         \u001b[0;32mreturn\u001b[0m \u001b[0mjson_reader\u001b[0m\u001b[0;34m.\u001b[0m\u001b[0mread\u001b[0m\u001b[0;34m(\u001b[0m\u001b[0;34m)\u001b[0m\u001b[0;34m\u001b[0m\u001b[0;34m\u001b[0m\u001b[0m\n\u001b[0m\u001b[1;32m    816\u001b[0m \u001b[0;34m\u001b[0m\u001b[0m\n\u001b[1;32m    817\u001b[0m \u001b[0;34m\u001b[0m\u001b[0m\n",
            "\u001b[0;32m/usr/local/lib/python3.11/dist-packages/pandas/io/json/_json.py\u001b[0m in \u001b[0;36mread\u001b[0;34m(self)\u001b[0m\n\u001b[1;32m   1023\u001b[0m                         \u001b[0mobj\u001b[0m \u001b[0;34m=\u001b[0m \u001b[0mself\u001b[0m\u001b[0;34m.\u001b[0m\u001b[0m_get_object_parser\u001b[0m\u001b[0;34m(\u001b[0m\u001b[0mself\u001b[0m\u001b[0;34m.\u001b[0m\u001b[0m_combine_lines\u001b[0m\u001b[0;34m(\u001b[0m\u001b[0mdata_lines\u001b[0m\u001b[0;34m)\u001b[0m\u001b[0;34m)\u001b[0m\u001b[0;34m\u001b[0m\u001b[0;34m\u001b[0m\u001b[0m\n\u001b[1;32m   1024\u001b[0m                 \u001b[0;32melse\u001b[0m\u001b[0;34m:\u001b[0m\u001b[0;34m\u001b[0m\u001b[0;34m\u001b[0m\u001b[0m\n\u001b[0;32m-> 1025\u001b[0;31m                     \u001b[0mobj\u001b[0m \u001b[0;34m=\u001b[0m \u001b[0mself\u001b[0m\u001b[0;34m.\u001b[0m\u001b[0m_get_object_parser\u001b[0m\u001b[0;34m(\u001b[0m\u001b[0mself\u001b[0m\u001b[0;34m.\u001b[0m\u001b[0mdata\u001b[0m\u001b[0;34m)\u001b[0m\u001b[0;34m\u001b[0m\u001b[0;34m\u001b[0m\u001b[0m\n\u001b[0m\u001b[1;32m   1026\u001b[0m                 \u001b[0;32mif\u001b[0m \u001b[0mself\u001b[0m\u001b[0;34m.\u001b[0m\u001b[0mdtype_backend\u001b[0m \u001b[0;32mis\u001b[0m \u001b[0;32mnot\u001b[0m \u001b[0mlib\u001b[0m\u001b[0;34m.\u001b[0m\u001b[0mno_default\u001b[0m\u001b[0;34m:\u001b[0m\u001b[0;34m\u001b[0m\u001b[0;34m\u001b[0m\u001b[0m\n\u001b[1;32m   1027\u001b[0m                     return obj.convert_dtypes(\n",
            "\u001b[0;32m/usr/local/lib/python3.11/dist-packages/pandas/io/json/_json.py\u001b[0m in \u001b[0;36m_get_object_parser\u001b[0;34m(self, json)\u001b[0m\n\u001b[1;32m   1049\u001b[0m         \u001b[0mobj\u001b[0m \u001b[0;34m=\u001b[0m \u001b[0;32mNone\u001b[0m\u001b[0;34m\u001b[0m\u001b[0;34m\u001b[0m\u001b[0m\n\u001b[1;32m   1050\u001b[0m         \u001b[0;32mif\u001b[0m \u001b[0mtyp\u001b[0m \u001b[0;34m==\u001b[0m \u001b[0;34m\"frame\"\u001b[0m\u001b[0;34m:\u001b[0m\u001b[0;34m\u001b[0m\u001b[0;34m\u001b[0m\u001b[0m\n\u001b[0;32m-> 1051\u001b[0;31m             \u001b[0mobj\u001b[0m \u001b[0;34m=\u001b[0m \u001b[0mFrameParser\u001b[0m\u001b[0;34m(\u001b[0m\u001b[0mjson\u001b[0m\u001b[0;34m,\u001b[0m \u001b[0;34m**\u001b[0m\u001b[0mkwargs\u001b[0m\u001b[0;34m)\u001b[0m\u001b[0;34m.\u001b[0m\u001b[0mparse\u001b[0m\u001b[0;34m(\u001b[0m\u001b[0;34m)\u001b[0m\u001b[0;34m\u001b[0m\u001b[0;34m\u001b[0m\u001b[0m\n\u001b[0m\u001b[1;32m   1052\u001b[0m \u001b[0;34m\u001b[0m\u001b[0m\n\u001b[1;32m   1053\u001b[0m         \u001b[0;32mif\u001b[0m \u001b[0mtyp\u001b[0m \u001b[0;34m==\u001b[0m \u001b[0;34m\"series\"\u001b[0m \u001b[0;32mor\u001b[0m \u001b[0mobj\u001b[0m \u001b[0;32mis\u001b[0m \u001b[0;32mNone\u001b[0m\u001b[0;34m:\u001b[0m\u001b[0;34m\u001b[0m\u001b[0;34m\u001b[0m\u001b[0m\n",
            "\u001b[0;32m/usr/local/lib/python3.11/dist-packages/pandas/io/json/_json.py\u001b[0m in \u001b[0;36mparse\u001b[0;34m(self)\u001b[0m\n\u001b[1;32m   1185\u001b[0m     \u001b[0;34m@\u001b[0m\u001b[0mfinal\u001b[0m\u001b[0;34m\u001b[0m\u001b[0;34m\u001b[0m\u001b[0m\n\u001b[1;32m   1186\u001b[0m     \u001b[0;32mdef\u001b[0m \u001b[0mparse\u001b[0m\u001b[0;34m(\u001b[0m\u001b[0mself\u001b[0m\u001b[0;34m)\u001b[0m\u001b[0;34m:\u001b[0m\u001b[0;34m\u001b[0m\u001b[0;34m\u001b[0m\u001b[0m\n\u001b[0;32m-> 1187\u001b[0;31m         \u001b[0mself\u001b[0m\u001b[0;34m.\u001b[0m\u001b[0m_parse\u001b[0m\u001b[0;34m(\u001b[0m\u001b[0;34m)\u001b[0m\u001b[0;34m\u001b[0m\u001b[0;34m\u001b[0m\u001b[0m\n\u001b[0m\u001b[1;32m   1188\u001b[0m \u001b[0;34m\u001b[0m\u001b[0m\n\u001b[1;32m   1189\u001b[0m         \u001b[0;32mif\u001b[0m \u001b[0mself\u001b[0m\u001b[0;34m.\u001b[0m\u001b[0mobj\u001b[0m \u001b[0;32mis\u001b[0m \u001b[0;32mNone\u001b[0m\u001b[0;34m:\u001b[0m\u001b[0;34m\u001b[0m\u001b[0;34m\u001b[0m\u001b[0m\n",
            "\u001b[0;32m/usr/local/lib/python3.11/dist-packages/pandas/io/json/_json.py\u001b[0m in \u001b[0;36m_parse\u001b[0;34m(self)\u001b[0m\n\u001b[1;32m   1428\u001b[0m         \u001b[0;32melse\u001b[0m\u001b[0;34m:\u001b[0m\u001b[0;34m\u001b[0m\u001b[0;34m\u001b[0m\u001b[0m\n\u001b[1;32m   1429\u001b[0m             self.obj = DataFrame(\n\u001b[0;32m-> 1430\u001b[0;31m                 \u001b[0mujson_loads\u001b[0m\u001b[0;34m(\u001b[0m\u001b[0mjson\u001b[0m\u001b[0;34m,\u001b[0m \u001b[0mprecise_float\u001b[0m\u001b[0;34m=\u001b[0m\u001b[0mself\u001b[0m\u001b[0;34m.\u001b[0m\u001b[0mprecise_float\u001b[0m\u001b[0;34m)\u001b[0m\u001b[0;34m,\u001b[0m \u001b[0mdtype\u001b[0m\u001b[0;34m=\u001b[0m\u001b[0;32mNone\u001b[0m\u001b[0;34m\u001b[0m\u001b[0;34m\u001b[0m\u001b[0m\n\u001b[0m\u001b[1;32m   1431\u001b[0m             )\n\u001b[1;32m   1432\u001b[0m \u001b[0;34m\u001b[0m\u001b[0m\n",
            "\u001b[0;31mValueError\u001b[0m: Expected object or value"
          ]
        }
      ]
    }
  ]
}